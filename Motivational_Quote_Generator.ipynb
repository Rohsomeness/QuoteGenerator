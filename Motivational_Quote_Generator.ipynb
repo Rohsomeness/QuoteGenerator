{
  "cells": [
    {
      "cell_type": "code",
      "execution_count": null,
      "metadata": {
        "id": "REJJFHA-RhYx"
      },
      "outputs": [],
      "source": [
        "import logging\n",
        "logging.disable(logging.INFO)"
      ]
    },
    {
      "cell_type": "code",
      "execution_count": 1,
      "metadata": {
        "colab": {
          "base_uri": "https://localhost:8080/"
        },
        "id": "1YGhgCgss7D6",
        "outputId": "97720dd3-1133-4059-df1a-8b592f3cc36e"
      },
      "outputs": [
        {
          "name": "stdout",
          "output_type": "stream",
          "text": [
            "Requirement already satisfied: tqdm in /usr/local/lib/python3.7/dist-packages (4.62.3)\n",
            "Collecting transformers\n",
            "  Downloading transformers-4.15.0-py3-none-any.whl (3.4 MB)\n",
            "Requirement already satisfied: importlib-metadata in /usr/local/lib/python3.7/dist-packages (from transformers) (4.8.2)\n",
            "Collecting sacremoses\n",
            "  Downloading sacremoses-0.0.46-py3-none-any.whl (895 kB)\n",
            "Requirement already satisfied: packaging>=20.0 in /usr/local/lib/python3.7/dist-packages (from transformers) (21.3)\n",
            "Requirement already satisfied: requests in /usr/local/lib/python3.7/dist-packages (from transformers) (2.23.0)\n",
            "Requirement already satisfied: regex!=2019.12.17 in /usr/local/lib/python3.7/dist-packages (from transformers) (2019.12.20)\n",
            "Requirement already satisfied: filelock in /usr/local/lib/python3.7/dist-packages (from transformers) (3.4.0)\n",
            "Collecting pyyaml>=5.1\n",
            "  Downloading PyYAML-6.0-cp37-cp37m-manylinux_2_5_x86_64.manylinux1_x86_64.manylinux_2_12_x86_64.manylinux2010_x86_64.whl (596 kB)\n",
            "Requirement already satisfied: numpy>=1.17 in /usr/local/lib/python3.7/dist-packages (from transformers) (1.19.5)\n",
            "Collecting tokenizers<0.11,>=0.10.1\n",
            "  Downloading tokenizers-0.10.3-cp37-cp37m-manylinux_2_5_x86_64.manylinux1_x86_64.manylinux_2_12_x86_64.manylinux2010_x86_64.whl (3.3 MB)\n",
            "Collecting huggingface-hub<1.0,>=0.1.0\n",
            "  Downloading huggingface_hub-0.2.1-py3-none-any.whl (61 kB)\n",
            "Requirement already satisfied: typing-extensions>=3.7.4.3 in /usr/local/lib/python3.7/dist-packages (from huggingface-hub<1.0,>=0.1.0->transformers) (3.10.0.2)\n",
            "Requirement already satisfied: pyparsing!=3.0.5,>=2.0.2 in /usr/local/lib/python3.7/dist-packages (from packaging>=20.0->transformers) (3.0.6)\n",
            "Requirement already satisfied: zipp>=0.5 in /usr/local/lib/python3.7/dist-packages (from importlib-metadata->transformers) (3.6.0)\n",
            "Requirement already satisfied: chardet<4,>=3.0.2 in /usr/local/lib/python3.7/dist-packages (from requests->transformers) (3.0.4)\n",
            "Requirement already satisfied: urllib3!=1.25.0,!=1.25.1,<1.26,>=1.21.1 in /usr/local/lib/python3.7/dist-packages (from requests->transformers) (1.24.3)\n",
            "Requirement already satisfied: certifi>=2017.4.17 in /usr/local/lib/python3.7/dist-packages (from requests->transformers) (2021.10.8)\n",
            "Requirement already satisfied: idna<3,>=2.5 in /usr/local/lib/python3.7/dist-packages (from requests->transformers) (2.10)\n",
            "Requirement already satisfied: joblib in /usr/local/lib/python3.7/dist-packages (from sacremoses->transformers) (1.1.0)\n",
            "Requirement already satisfied: six in /usr/local/lib/python3.7/dist-packages (from sacremoses->transformers) (1.15.0)\n",
            "Requirement already satisfied: click in /usr/local/lib/python3.7/dist-packages (from sacremoses->transformers) (7.1.2)\n",
            "Installing collected packages: pyyaml, tokenizers, sacremoses, huggingface-hub, transformers\n",
            "  Attempting uninstall: pyyaml\n",
            "    Found existing installation: PyYAML 3.13\n",
            "    Uninstalling PyYAML-3.13:\n",
            "      Successfully uninstalled PyYAML-3.13\n",
            "Successfully installed huggingface-hub-0.2.1 pyyaml-6.0 sacremoses-0.0.46 tokenizers-0.10.3 transformers-4.15.0\n"
          ]
        }
      ],
      "source": [
        "%%bash\n",
        "pip install tqdm transformers"
      ]
    },
    {
      "cell_type": "code",
      "execution_count": 4,
      "metadata": {
        "colab": {
          "base_uri": "https://localhost:8080/",
          "height": 49,
          "referenced_widgets": [
            "ec1df88390b646f18af01cba9665157e",
            "b719ad507c334c24a5dabe1c2eb8ec2a",
            "a436f2e011fc456a96becc4d16ae27cf",
            "9de7aa644a8049d08f5a3afb726c5a84",
            "6c2e38f7006e47e3824d9ed09b1743a0",
            "401bec423d8242f1a3e2f26f004409f4",
            "2e0166ecc104434480ecce6c98a989d6",
            "946fc0a07efb4372a0fd27baf42e4c5f",
            "7d9e6e461b924c47a6a8ef7ba3ee1da6",
            "62d558db9e4e488c89738414eea5cc02",
            "22ca23a2c5054bf3963fa89eae9dafdb"
          ]
        },
        "id": "AO8KrJHhtAm4",
        "outputId": "8060009c-8b39-42ee-ba03-08f6d3f0c3be"
      },
      "outputs": [
        {
          "data": {
            "application/vnd.jupyter.widget-view+json": {
              "model_id": "ec1df88390b646f18af01cba9665157e",
              "version_major": 2,
              "version_minor": 0
            },
            "text/plain": [
              "Downloading:   0%|          | 0.00/523M [00:00<?, ?B/s]"
            ]
          },
          "metadata": {},
          "output_type": "display_data"
        }
      ],
      "source": [
        "import numpy as np\n",
        "import pandas as pd\n",
        "import torch\n",
        "from transformers import GPT2Tokenizer, GPT2LMHeadModel, AdamW, get_linear_schedule_with_warmup\n",
        "import random\n",
        "from torch.utils.data import Dataset, DataLoader\n",
        "from tqdm import tqdm, trange\n",
        "import torch.nn.functional as F\n",
        "\n",
        "tokenizer = GPT2Tokenizer.from_pretrained('gpt2')\n",
        "model = GPT2LMHeadModel.from_pretrained('gpt2')\n",
        "device = torch.device('cpu')"
      ]
    },
    {
      "cell_type": "code",
      "execution_count": 5,
      "metadata": {
        "colab": {
          "base_uri": "https://localhost:8080/"
        },
        "id": "1LcLgWAEt9b3",
        "outputId": "4aff502a-ffdc-4374-c7a9-2540b5e2aae0"
      },
      "outputs": [
        {
          "name": "stdout",
          "output_type": "stream",
          "text": [
            "{'input_ids': [50256, 16281, 2420, 50256], 'attention_mask': [1, 1, 1, 1]}\n"
          ]
        }
      ],
      "source": [
        "#Basic Logic:\n",
        "\n",
        "text = \"Example text\"\n",
        "encoded_input = tokenizer(text, add_special_tokens=True)\n",
        "\n",
        "encoded_input['input_ids'] = [tokenizer.bos_token_id] + encoded_input['input_ids'] + [tokenizer.eos_token_id]\n",
        "encoded_input['attention_mask'] = [1] + encoded_input['attention_mask'] + [1]\n",
        "print(encoded_input)"
      ]
    },
    {
      "cell_type": "code",
      "execution_count": 6,
      "metadata": {
        "colab": {
          "base_uri": "https://localhost:8080/"
        },
        "id": "Lfstso3e38AI",
        "outputId": "71ef4eb1-e335-40ea-bb84-ae1548be5332"
      },
      "outputs": [
        {
          "name": "stdout",
          "output_type": "stream",
          "text": [
            "Genius is one percent inspiration and ninety-nine percent perspiration.\n",
            "1664\n",
            "Age is an issue of mind over matter. If you don't mind, it doesn't matter.\n",
            "75966\n",
            "tensor([50256, 13746,  3754,   318,   530,  1411, 12141,   290, 37989,    12,\n",
            "        30888,  1411,  2774, 10514,    13, 23396,   318,   281,  2071,   286,\n",
            "         2000,   625,  2300,    13,  1002,   345,   836,   470,  2000,    11,\n",
            "          340,  1595,   470,  2300,    13, 50256])\n"
          ]
        }
      ],
      "source": [
        "#Dataset Setup\n",
        "\n",
        "quotes1 = pd.read_csv('quotes.csv')['Quote']\n",
        "print(quotes1[0])\n",
        "print(len(quotes1))\n",
        "quotes2 = pd.read_csv('quotes2.csv', delimiter=';')['QUOTE']\n",
        "print(quotes2[0])\n",
        "print(len(quotes2))\n",
        "quotes = quotes1 + quotes2\n",
        "\n",
        "input = []\n",
        "for row in quotes:\n",
        "  try:\n",
        "    input.append(torch.tensor([tokenizer.bos_token_id] + tokenizer.encode(row[:1024]) + [tokenizer.eos_token_id]))\n",
        "  except:\n",
        "    continue\n",
        "print(input[0])\n",
        "quotes = input"
      ]
    },
    {
      "cell_type": "code",
      "execution_count": 7,
      "metadata": {
        "id": "X5B09ZPLHRJB"
      },
      "outputs": [],
      "source": [
        "def pack_tensor(new_tensor, packed_tensor, max_seq_len):\n",
        "    if packed_tensor is None:\n",
        "        return new_tensor, True, None\n",
        "    return packed_tensor, False, new_tensor\n",
        "    if new_tensor.size()[1] + packed_tensor.size()[1] > max_seq_len:\n",
        "        return packed_tensor, False, new_tensor\n",
        "    else:\n",
        "        packed_tensor = torch.cat([new_tensor, packed_tensor[:, 1:]], dim=1)\n",
        "        return packed_tensor, True, None"
      ]
    },
    {
      "cell_type": "code",
      "execution_count": 8,
      "metadata": {
        "id": "JNNreHIaHxAz"
      },
      "outputs": [],
      "source": [
        "import pandas as pd\n",
        "from transformers import GPTNeoForCausalLM, GPT2Tokenizer\n",
        "import numpy as np\n",
        "import random\n",
        "import torch\n",
        "from torch.utils.data import Dataset, DataLoader\n",
        "from transformers import GPT2Tokenizer, GPT2LMHeadModel, AdamW, get_linear_schedule_with_warmup\n",
        "from tqdm import tqdm, trange\n",
        "import torch.nn.functional as F\n",
        "import csv"
      ]
    },
    {
      "cell_type": "code",
      "execution_count": 11,
      "metadata": {
        "colab": {
          "base_uri": "https://localhost:8080/"
        },
        "id": "hph-UhJK7PHP",
        "outputId": "25086bc2-ea10-468a-ce5c-b789385580f9"
      },
      "outputs": [
        {
          "name": "stdout",
          "output_type": "stream",
          "text": [
            "----------------------------------------------------------------------------------------------------\n",
            "Starting Training...\n",
            "Epoch:  0\n",
            "Loss:  0\n"
          ]
        },
        {
          "name": "stderr",
          "output_type": "stream",
          "text": [
            "100%|██████████| 1664/1664 [01:06<00:00, 25.09it/s]\n"
          ]
        },
        {
          "name": "stdout",
          "output_type": "stream",
          "text": [
            "Epoch:  1\n",
            "Loss:  tensor(3.5138, device='cuda:0', grad_fn=<NllLossBackward0>)\n"
          ]
        },
        {
          "name": "stderr",
          "output_type": "stream",
          "text": [
            "100%|██████████| 1664/1664 [01:05<00:00, 25.25it/s]\n"
          ]
        },
        {
          "name": "stdout",
          "output_type": "stream",
          "text": [
            "Epoch:  2\n",
            "Loss:  tensor(3.4108, device='cuda:0', grad_fn=<NllLossBackward0>)\n"
          ]
        },
        {
          "name": "stderr",
          "output_type": "stream",
          "text": [
            "100%|██████████| 1664/1664 [01:05<00:00, 25.28it/s]\n"
          ]
        },
        {
          "name": "stdout",
          "output_type": "stream",
          "text": [
            "Epoch:  3\n",
            "Loss:  tensor(3.4517, device='cuda:0', grad_fn=<NllLossBackward0>)\n"
          ]
        },
        {
          "name": "stderr",
          "output_type": "stream",
          "text": [
            "100%|██████████| 1664/1664 [01:05<00:00, 25.40it/s]\n"
          ]
        }
      ],
      "source": [
        "TRAIN = 0\n",
        "LOAD = 1\n",
        "\n",
        "if TRAIN and LOAD:\n",
        "  LOAD = 0\n",
        "  model.load_state_dict(torch.load(\"quote_model_epoch3.pt\"))\n",
        "\n",
        "if TRAIN:\n",
        "  print(100*'-')\n",
        "  print(\"Starting Training...\")\n",
        "  device = torch.device(\"cuda\")\n",
        "\n",
        "  LEARNING_RATE = 2e-5\n",
        "  WARMUP_STEPS = 200\n",
        "  EPOCHS = 4\n",
        "  BATCH_SIZE = 16\n",
        "\n",
        "  model = model.to(device)\n",
        "  model.train()\n",
        "  optimizer = AdamW(model.parameters(), lr=LEARNING_RATE)\n",
        "  scheduler = get_linear_schedule_with_warmup(optimizer, num_warmup_steps=WARMUP_STEPS, num_training_steps=-1)\n",
        "\n",
        "  train_dataloader = DataLoader(quotes, batch_size=1, shuffle=True)\n",
        "  loss = 0\n",
        "  batch_count = 0\n",
        "  input_tensor = None\n",
        "  \n",
        "  for epoch in range(EPOCHS):\n",
        "      print(\"Epoch: \", epoch)\n",
        "      print(\"Loss: \", loss)\n",
        "\n",
        "      # for step, entry in enumerate(tqdm(train_dataloader)):\n",
        "      #   print(entry)\n",
        "      #   if torch.is_nan(entry):\n",
        "      #     continue\n",
        "        \n",
        "      #   if step > 10:\n",
        "      #     raise Exception(\"paused\")\n",
        "\n",
        "      for step, entry in enumerate(tqdm(train_dataloader)):\n",
        "        (input_tensor, carry_on, remainder) = pack_tensor(entry, input_tensor, 768)\n",
        "        if carry_on and step != len(train_dataloader) - 1:\n",
        "            continue\n",
        "        input_tensor = input_tensor.to(device)\n",
        "        outputs = model(input_tensor, labels=input_tensor)\n",
        "        # outputs = model(input_tensor)\n",
        "        loss = outputs[0]\n",
        "        loss.backward()\n",
        "        if batch_count % BATCH_SIZE == 0:\n",
        "            optimizer.step()\n",
        "            scheduler.step()\n",
        "            optimizer.zero_grad()\n",
        "            model.zero_grad()\n",
        "        batch_count += 1\n",
        "        input_tensor = None\n",
        "      name = \"quote_model_epoch\" + str(epoch) + \".pt\"\n",
        "      torch.save(model.state_dict(), name)\n",
        "\n",
        "if LOAD:\n",
        "  model = GPT2LMHeadModel.from_pretrained('gpt2')\n",
        "  model.load_state_dict(torch.load(\"quote_model_epoch3.pt\"))\n",
        "  device =  torch.device(\"cuda\")\n",
        "  model.to(device)"
      ]
    },
    {
      "cell_type": "code",
      "execution_count": 20,
      "metadata": {
        "colab": {
          "base_uri": "https://localhost:8080/"
        },
        "id": "ccgLMT_4O6Qu",
        "outputId": "f56df3d0-ba91-4576-e5ad-683616176574"
      },
      "outputs": [
        {
          "data": {
            "text/plain": [
              "[' It\\'s a very special day when you get to sit in this corner. And if I don\\'t want to do that, the only way out is by doing it alone.\"\\nThe next step for those who are interested can be getting married at age 35 or 40 and starting their own business as an artist after they have accomplished what has been done before them on stage -- something he did not believe would ever happen again (except maybe because of one woman).<|endoftext|>',\n",
              " ' The best example is when a man gets to the age of forty, and he goes off with an education. It\\'s like having children: it gives you something new that people can grow up without going away altogether.\"<|endoftext|>',\n",
              " ' The soul is one person\\'s spirit.To make a living, you must live in it yourself.\"<|endoftext|>',\n",
              " \" If you love the world and care about what it does to us, then surely this will give a great deal of value.In addition I'd like some people who've already read that sorta thing from The Lord Of Poker or something...<|endoftext|>\",\n",
              " \" I will not be afraid to look into my eyes and see the truth, but only when I have a vision of what's best for me.<|endoftext|>\",\n",
              " ' It\\'s the only way to get a good job, so we\\'ll give it up. If you want something better than that at work and don\\'t go out with somebody else for six months or more in your twenties (I was 19 when I started doing video games), then make yourself available on MTV.\"<|endoftext|>',\n",
              " \" You do not know what to say, but only you believe in your heart.I'm a very big believer that God doesn't make mistakes and I think the way we teach is by listening to our children's stories at home rather than watching them on television or taking their music lessons alone because they're all grown up now...<|endoftext|>\",\n",
              " ' It\\'s not that you\\'re the best of all. I\\'m just trying to be my most beautiful woman, because now it seems as if we don\\'t want women in a room together anymore.\"\\nThe first few days on this planet have been spent with children - and their mother being an actress alone when they were growing up for six years is still very much alive today!<|endoftext|>',\n",
              " ' You are alone with your thoughts.When you think, there is nothing in sight but the world itself and then we have to face it ourselves - not even for that moment or second glance when our thought ceases being of us who live under conditions which give up their life without any sense at all; those days pass like a dream through my memory...<|endoftext|>',\n",
              " ' I have never been able to escape it.The truth is that I was born alone with the idea of being a woman in college, and when you start talking about having no children then what do we say? Why should anybody think this has any significance for us?\"\\nIn her autobiography she writes:<|endoftext|>',\n",
              " ' The man who is the chief judge of all mankind must never be satisfied.In order to reach such a position, one has become completely blind and can only see through shadows alone.\"<|endoftext|>',\n",
              " ' There is only one god in the universe, that which exists alone.It would not be possible without all men believing and doing their best to do so!<|endoftext|>',\n",
              " ' The best thing a child is doing in life, as I know it and teach me about things.If you go out to play alone with your friends on Saturday night there are no other places where that happens than the gymnasium at Harvard University (I was one of them).<|endoftext|>',\n",
              " \" A man may be born of his own accord but a woman who is not will alone.He says that when the time has come to settle down, I can't think about what my future holds and how many others do or are going through it either way because there's nothing in life for which women have been able at least as well-rounded men (or even better).<|endoftext|>\",\n",
              " ' In the name of Allah we believe; but in our hearts it is a mystery.I was born with an unshakeable faith and had my family around me when I came into middle age, then moved to New York where he taught English at Stuyvesant High School until his passing on July 6th 2011<|endoftext|>',\n",
              " ' You know you are not alone.\\nI don\\'t have a lot of words that I like to say or speak, but my friends in high school used the word \"gay\" when they talked about being gay and their mother had no idea what it was for!<|endoftext|>',\n",
              " ' A man is always the best that he can be, and when men do wrong they are never alone.He must also understand his age; a young person who does not know how old has no right to stand up against it in this day of violence because their parents or grandfathers have become too violent themselves at some point during life.\"<|endoftext|>',\n",
              " ' A man of wisdom may be able to see the truth, but not a fool.I was lucky when I got my hair cut in high school and had it done at age 20 or 21 (laughs).<|endoftext|>',\n",
              " ' A man has no right to be alone.I don\\'t know why the Lord doesn-that\\'s what I feel when he does something, that is his destiny - but if you go back through a whole century of people who lived together they never really got along with each other; then it would have been very difficult for them all.\"It was like watching yourself die in front and not being able do anything because someone had told me about him at an old age saying \\'you were only 21 years older than your mum\\' which wasn`t quite true,\" she says candidly today on ABC Television Tonight (ABC).<|endoftext|>',\n",
              " ' I would not have gone back to England, unless I had been able to look up the world. It was my destiny that we should go together and make ourselves known in Europe.\"<|endoftext|>',\n",
              " ' You are a man of wisdom, and your work is worth nothing.<|endoftext|>',\n",
              " \" It's the right way.The only thing I can say for certain is that it was a wonderful experience and one of those things where you have to put your life on hold or else people won't let up, so when we did do what they wanted in our lives at this time there wasn\\n<|endoftext|>\",\n",
              " ' This is how we can live.We are all born with a single purpose in our lives: to achieve something, or simply enjoy it the least bit longer than if there were none at home and only one person who could see what was happening out of their window each night...<|endoftext|>',\n",
              " ' I am alone, and I do not know what my fate will be in the long run.<|endoftext|>',\n",
              " ' If it\\'s not done at all, I don\\'t know what to do with my life.It is a wonderful gift for me that there are people who think differently than they did about religion and spirituality before the age of 25 or 26... And in some respects we\\'re still quite different today as you might imagine from our youth.\"<|endoftext|>',\n",
              " ' No one knows anything about the world beyond what is available.I want to be free, but I have some serious issues that need fixing before they become too big for me.\"<|endoftext|>',\n",
              " ' The first thing that I would like to do when my daughter is young, should be for her own health and well-being.<|endoftext|>',\n",
              " ' In the end, I\\'ll never know who is my friend and not what people will want.There are other characters in comics that have been very successful as writers: Batman from Superman to Captain America (which had its success only with Alan Moore); Spider-Man of Man Of Steel; Wonder Woman herself has come into her own quite early—she\\'s a pretty good actress but it seems like she just wants everybody out for some kind at one time or another.\"<|endoftext|>',\n",
              " ' The man who has the power to change is not himself but his own person, and he does this because there can be no transformation by taking up arms.A certain kind of freedom must exist for a woman without giving birth - it\\'s called marriage itself that gives us all rights in life except sex at any age when children are needed.\"<|endoftext|>',\n",
              " ' This was not only a spiritual and social issue but it had an economic impact.The government should be able to control people\\'s destiny by providing them with education in school or at least free medical care for their own illnesses, without having the need of health insurance as long they have lived.\"<|endoftext|>',\n",
              " \" The more you love it, the happier and stronger your relationship becomes.It is not a question of age or sex; rather an issue about how to get older without taking risks in order for yourself as one who wants only what he can give us with our money - that's partaking too much at this moment on behalf...<|endoftext|>\",\n",
              " \" I am not able to be an adult anymore, so you can't tell me what I should do and why. And there are certain things that we don\\n...We're in this together right now where people feel like everything is different because everybody feels a little older than they did when it was the same age!<|endoftext|>\",\n",
              " ' There is no way of knowing what would happen if we were alone. I feel like my best friend and that\\'s the only thing worth doing in life today, because people always say it doesn\\'t work out so well for me.\"<|endoftext|>',\n",
              " ' It is not the nature of things, but what they are that determines their existence.If you want to be successful in life or career and achieve success through education it will have an effect on your chances for succeeding with money at all costs because people think about how good a job someone has as much influence over them than anyone else does who goes into this business alone without any knowledge whatsoever.\"<|endoftext|>',\n",
              " ' You know how to keep the light on, because that alone gives you strength.\"<|endoftext|>',\n",
              " ' You cannot be an old man without having some sense of humor.I think my dad taught me a lot about being younger than what I remember from college years, how to talk and read books in the morning before bedtime with no clothes on because he had already been wearing that day\\'s book for two hours long (it was called \"What You Read\"), but also his ability aspired very much towards maturity when it came time not knowing anything at all until age 21-23 so we could actually get up late together by 10am every night after work if needed .<|endoftext|>',\n",
              " \" To be happy in a dream is to feel proud.It doesn't matter what age or nationality you are, how old your parents and grandparents were when they got married; if their lives weren`t as glamorous today we'd never think about being poor anymore because of it!<|endoftext|>\",\n",
              " ' If we were not capable of doing something, it would make no sense at all.In the case where someone has been injured or died for a certain amount thereof that person can do nothing about them without fear being sued out and their children might become orphans as well.\"This is really an example with our own youth today in terms I have seen,\" said Mr Nardini to reporters after leaving his office on Monday evening alone but could be due next month if he doesn\\'t meet expectations yet when Congress reconvenes later this week.(With inputs from PTI)<|endoftext|>',\n",
              " ' It is the way of life that gives us hope and strength.We all want to be successful, so we should try hard not only as adults but also at a young age if possible!<|endoftext|>',\n",
              " \" The soul is a little more than the mind alone.I'm not going to let you go, and I don't want it anymore because of how much time has passed since my last post here on this blog about getting married in 2008 with kids under age 10 years old!<|endoftext|>\",\n",
              " \" It has been the greatest joy of my life since I was born. But it must not come as a surprise to you that we are living through different eras in history than any other, and there is something else about our past which makes us feel old enough for one reason alone.We're all children now...<|endoftext|>\",\n",
              " \" The best of humanity is to learn how things work.\\nThere are a number and types that I find the most difficult, however you decide not only on your age but also at what level it comes into being in life as well so don't think too much about everything else when deciding whether or no one will ever look like yourself anymore!<|endoftext|>\",\n",
              " ' The world\\'s greatest happiness lies in knowing it and being able to say \\'I don\\'t know what I am doing\\'.\"\\n\"A man is alone when he feels like somebody else, even though that might not always be true. But then we\\'ve all become so much more isolated than ever before because of this age.\"<|endoftext|>',\n",
              " \" What's the value of what a person tells you? Who is it to know, when asked if he or she knows.We're all adults at this age and we need new things so that kids are ready for life after graduation... I think our children learn by doing their own thing - not being able 'em up alone because they want others'<|endoftext|>\",\n",
              " ' I do not believe in miracles or of magic. I don\\'t think that there are any supernatural beings who exist, and therefore those things which happen to me must be due entirely unto God alone.\"\\nOne might ask whether the age old superstition is true because it may lead some young women into believing they were blessed by their parents when only a couple had children under five years old; if so, what can we make from them?<|endoftext|>',\n",
              " ' The first thing I did was get up and do a little exercise, then walk out to dinner. And my dad didn\\'t want me on the road anymore because he thought it would bring him back into being alone with his girlfriend who worked at home doing her job as well that she still had left for another family or something so you know what else happened? It\\'s very difficult not having your mother in an age where maybe we just donned glasses too much all day.\"\\nIf only everyone knew about this stuff before now...<|endoftext|>',\n",
              " ' The truth of a man\\'s life depends not on his age or education, but upon the extent to which he understands that fact. It is easy enough in America for people who are poor and lonely if they come from an American middle class like ours: \"Well I know you live alone!\" If only there were one thing more important than living together at home with my wife — having children after work every day!\\n<|endoftext|>',\n",
              " ' I\\'ve done this for three years and I\\'m not even trying anymore. This is the time when everybody has a chance, so to speak.\"\\nThe next few days were tough; it was just like watching one of those movies where you can see your age but in life there are things that happen with young people older than they\\'re used beling each other at certain moments -- maybe five minutes into \\'70s films or six hours out on an evening set up because someone tells them what happened yesterday night after seeing her last film (or she says), something very different from their old selves\\' attitude toward television shows such as Arrested Development .<|endoftext|>',\n",
              " ' I can not stand alone, for I am the leader of a small group.It is difficult to find someone who you are attracted by and love them because there\\'s only one person in every age band we know together.\"<|endoftext|>',\n",
              " ' It is impossible that man alone could know the truth of nature, but he can learn and make use of it.There are many things which cannot be taught in schools at all except what has been already learned by an educated mind; for example: they must always follow a certain age with its first-class teacher to become acquainted enough wit not only as children do when their parents come from different classes or have no education themselves (in my case), although I was never one who enjoyed learning more than myself - though every time there were some new people arriving she would ask me why...<|endoftext|>',\n",
              " \" The Lord is our friend and we are not enemies but friends in ourselves.We must be grateful to God for what he has done with us that helped me live through it all; I wish they were so much better than this, especially because the only way you can really make love without hurting someone else's feelings or getting hurt yourself may have been by going out on a limb alone at night instead of having somebody come take your picture while doing something serious like driving an inflatable toy truck around town until everyone was asleep (the most common age when kids actually go about their day), which probably means making up some sort...<|endoftext|>\",\n",
              " ' \\nA man should not give his life for money.<|endoftext|>',\n",
              " ' The more I have the courage to face my truth and believe in it, alone are they left behind.<|endoftext|>',\n",
              " ' A person must be willing to accept the burden of proof for himself.I think it is really difficult to get people out on a limb when they\\'re so young, because you can\\'t say \\'Oh I\\'m old enough that this happened.\\' You have to grow up and understand yourself from age 18,\" he said during an interview with Fox News\\' Greta Van Susteren in October 2013, at one point referring specifically toward his own adult success after just two years as co-founder and CEO of DreamWorks Animation Studios Inc., which now produces films based around children\\'s characters like The Little Mermaid , where kids are playing video games about dolls instead; or Disney movies involving superheroes (which were later rebooted by Lucasfilm).<|endoftext|>',\n",
              " ' It is my duty to make the world better.I don\\'t want this age of silence at all - it\\'s just a time for me, where I can enjoy myself and give thanks or smile goodbye rather than be alone with someone who has been there forever but does not know how long they\\'ve stayed here.\"<|endoftext|>',\n",
              " ' There is nothing to fear but our own judgment, and that of others.The world has become the greatest place on earth for me at this moment in time.\"<|endoftext|>',\n",
              " \" \\nIn the age of social media we are in a unique position to create new forms, or discover ideas. And that's when things get interesting again – not only for those who don't care about politics but also because you need them anyway!<|endoftext|>\",\n",
              " \" The Lord has spoken for all mankind.I don't see how anybody could say anything if they didn' t know what it was like to be gay in America, let alone at home!<|endoftext|>\",\n",
              " \" We should never lose sight of what we are doing.The world is full too early and you have to wait till someone arrives before your work can be done or else there will always come a day when everybody's ready for some sort-of event that needs nothing, let alone an extraordinary moment in which they get it accomplished (I think the great age has reached its peak).<|endoftext|>\",\n",
              " \" It is a great joy to be free and alone.If there are only two kinds of women: the ones who have become wealthy by taking advantage in order for themselves, or those without it at all; then we should think about whether they were right before our eyes because what men would expect from their appearance has not yet been accomplished—and that's just me!<|endoftext|>\",\n",
              " ' The great man can\\'t be satisfied by merely having no knowledge.He will only grow in wisdom and understanding, so long as he keeps himself informed about every detail of life for the last six hundred years.\"<|endoftext|>',\n",
              " ' The truth is, there are many things in life that make people happy.<|endoftext|>',\n",
              " \" There are so many of them.\\nA very interesting thing is that this may be the most important issue facing our age in America today because it will decide whether or not a child can go to school, what's their future education requirements and who knows how far they want children going into college but still have enough money for retirement?<|endoftext|>\",\n",
              " ' There is no one who has lost his soul. He cannot be alone in the universe, but he can exist within itself at any moment of time.\"The last part was a good lesson to all those living with Alzheimer\\'s disease and their families because we\\'re not just talking about dementia or people that are having this thing; it\\'s also what they were born for - which means you have two options now: stay home early (you may never walk again), go on an expensive plane instead if your parents think there will ever come back as adults like me do from age 40...or leave our lives entirely behind us until old enough\".<|endoftext|>',\n",
              " ' It is not enough to be an ordinary man if he believes that the universe has a purpose.The most obvious answer, however--the one which I think many of us have been thinking about for years today---is always \"yes.\" It\\'s hard being old; we want what comes after and everything else fades away in our hearts into nothingness:We are very young at age 15 but it doesn\\'t matter how much time you spend with your family or friends who care more deeply than anything they do alone because everybody around them knows all their secrets!<|endoftext|>',\n",
              " ' I will give myself the honour of being able to live alone.My first duty was my wife and I had a good laugh together at her birthday party when she walked out from under me on our way up, saying that they didn\\'t let us take off without some clothes so we would be ready with all this stuff later in life because then you\\'d have something for everyone else.\"<|endoftext|>',\n",
              " \" \\nWhen you look around at all the people who have come up, how can anyone believe that these things are true? I mean if a man had to say something like this once in his life and they were talking about him today he would be sitting here doing it for years.I'm sure when my mother came into our house she said her name was Nancy from Lonesome Dove . She died of cancer yesterday evening<|endoftext|>\",\n",
              " ' He who gives is not free.When it comes to our own lives we have little reason or authority, and if ever there was anything in the world that had any effect on mankind at all then what did? We must choose between living as best ourselves (the highest of which may be attained through prayer alone), sacrificing more things for happiness than possible so long with no one else but God -and let him decide himself; perhaps even he should make peace among us by giving up some old idea about marriage!<|endoftext|>',\n",
              " ' We are not alone. We live together in the world, and we know how to get things done on our own terms; but as long it is for us both that you succeed or fail at some task I cannot do without saying so also: If any man wishes he should be a doctor now.\"The idea of doing more with less than money was never too far-fetched after all because every age has had many men who would accept his work if they were paid what could afford him - especially by their wives\\' husbands themselves! That\\'s an awful lot better still today!\"<|endoftext|>',\n",
              " ' There is no God, there are only Him who created you.\"The man\\'s work consists in his own action and not of others.<|endoftext|>',\n",
              " \" A man of a different age may find him more capable than one who has yet to be born.The old saying goes: 'I am the same, not because I have become anything but that which is so.'<|endoftext|>\",\n",
              " ' I know nothing. I do not speak my mind to be alone but rather talk myself into being, through others and the world for me as well.\"\\n\\xa0\\xa0\\xa0\\xa0\\xa0\\xa0\\xa0\\xa0\\xa0\\xa0\\xa0 As much fun this is at times (like in her latest movie), it also makes you want more things on your phone because that\\'s where most of them are: \"It might work better if we had a single camera instead [because], hey, there may come something really special when somebody can get away with having multiple phones so long ago,\" she says; or maybe they should have an iPad too!<|endoftext|>',\n",
              " ' I have to take a chance, but not always. I don\\'t feel guilty for what others say about me.\"\\n\"The worst that can happen is if you get caught up in one of the old myths around sex or sexuality,\" she says; \"the more people try to scare women out by telling them how sexy it must be at age 20 they\\'re almost as likely going on suicide trying desperately vainly and then turning into this big girl who has no idea her own body could ever do anything good except being so cute\".<|endoftext|>',\n",
              " \" I'm not sure what you do with a good idea, but I think that this can't hurt.If someone is looking for something new to start thinking about at the end of their career it's very difficult; there are more things than we would like and maybe don 't mind getting into music.'<|endoftext|>\",\n",
              " ' I\\'m not going to be in a place where they have no idea what I am. And it just gets worse, because you never really know if something will ever come of age until the last moment.\"\\nIt\\'s easy for parents who want their kids on ice and don\\'t mind being alone with them when there are people at home playing hockey; especially now that all six seasons between games were won by teams from outside Canada – so how does he make sense of things?<|endoftext|>',\n",
              " \" \\nI can do more than just watch my wife. I'm going to get a lot better at what she has and become her own best friend in life, too.<|endoftext|>\",\n",
              " \" \\nIn a sense, we all are alike.We have to be alone if you want happiness - and I am not sure there's anybody else around who can give it back for free as soon or in any other way than the usual means of making money from advertising your products without having their permission so that people will buy them on sale instead?<|endoftext|>\",\n",
              " ' It is the greatest of all evils to fall from grace, that if you can do it without suffering death and be alone with God.If I am not a man then there are no things worth doing unless those who live have something worthy enough in them which would make me an attractive young woman for men.\"The best part about being old age? It makes life easier because your body feels better when we feel more comfortable around each other.\"\"I\\'ve been through this as well,\" she says quietly over dinner at my apartment last summer on Lakefront Drive - two blocks away near her home where they\\'d both worked before living together after divorce -- \"where everybody\\'s going nuts just trying new shit like \\'We Are What We Wish For.\\' You go down so hard but everyone else seems totally ungrateful right now.\\'\\'<|endoftext|>',\n",
              " ' A man who is alone, he will not be able to do any thing that belongs equally in him.What I would like most of all for a woman and her children are an opportunity with them when they grow up; then there\\'s no way you could stop it or even try out your own plan.\"<|endoftext|>',\n",
              " \" It would make you proud if he was able to do it all again.I don't think I ever thought that there might be any reason why we shouldn'er than the average person, but at some point in my life this is going back on and forth between being lonely with a lot of work done by others or living alone as someone who's doing what makes me happy instead Of having people try their best Not wanting anything else But maybe not thinking about them anymore<|endoftext|>\",\n",
              " ' We can be friends but we must not do so alone. We may never become one without being able to make love with others, and this is the way of success that you have been taught by teachers who are in my life a lot older than I am!<|endoftext|>',\n",
              " ' I am in my infancy. I do not know what to say about it now or then, and the age of maturity is far too long for me.\"\\nThe next day she left her father\\'s house with a book that had never been written before: The Last Girl Standing alone by Gertrude Steinberg , an autobiographical account on how he began writing his own music as young man growing up at home listening through glasses while playing piano (the only thing keeping him from trying out classical was \"no saxophone\"). He liked doing things but didn\\'t like having people around who were so interested enough when they could play their instruments onstage rather than making them dance themselves into oblivion .<|endoftext|>',\n",
              " ' To be able to accomplish one\\'s goals at a time without having children.You can\\'t live alone unless you have an independent mind, which is what we need here in New York City now that the recession has hit home and our economy looks like it could never last if not for some people coming back from this old age with new ideas of how they should do things or about who does them better.\"<|endoftext|>',\n",
              " ' There is no doubt, however imperfectly conceived or understood in our minds about the true meaning of God.If you cannot see through a veil your own mind does not exist; it will vanish into nothingness when we die alone and without hope for new beginnings until there be found within us an infinite number who would find happiness by learning to live with each other again after they have separated from one another forever!<|endoftext|>',\n",
              " \" No one is alone, but all must be taken together by God.A man's soul can only grow in the age of youth; and as he reaches maturity there may not ever again go to that level for which his parents had warned him:<|endoftext|>\",\n",
              " ' We are not alone in the world.I think a lot of people would rather die than become an animal and live as if nothing was going on with them because they\\'re too fat or something.\"<|endoftext|>',\n",
              " ' To be free and alone, you must also have some measure of self-respect.I think that if we were to get married every day there would probably never become a single man who was divorced from our daughter so she could still raise three kids herself.\"<|endoftext|>',\n",
              " ' I know how much I hate being alone. You\\'re the only one who can change that.\"\\nThe truth is, if you have a relationship with someone of your own age and not feel insecure about it for them to be able or willing -- even when they are in relationships at an older than their 20s -- then there will always come some person younger from whom she\\'ll love her most but won\\'t do anything special on top until something better happens along those lines: \"Oh my God ... well maybe next time we go into another bar,\" Ms Piggot said quietly as he walked away; sometimes people don\\' really like going outside so far because everybody knows where everyone\\'s headed right now .<|endoftext|>',\n",
              " ' The age of the soul will be in a day or two.\" -L.A.\\'s great poet, John Wesley Anderson<|endoftext|>',\n",
              " \" You are not alone.The most beautiful thing about my age is that when people ask what I did for them, it doesn't make me any happier than they might think... but if you look at how much longer we've been together since then he was the same as ever before!<|endoftext|>\",\n",
              " ' The people of the earth, when they are enlightened and free from worldly pleasures or evil spirits in their hearts become one.They can be saved without fear at age eighteen by an old man who does not care for others as long before he leaves his home alone because no longer will anyone know him until after forty-five is older than what we have to say today!<|endoftext|>',\n",
              " ' It is not a matter of whether you wish to remain in the business but how long it will be. If I have worked hard enough, they say if there was time for me, now would come when my work got done...I\\'m happy with where that goes and can\\'t wait till then.\"<|endoftext|>',\n",
              " ' In the first place, you\\'re making a mistake in thinking. It is not an error to think that if it happened all over again tomorrow and everyone would be here at once then there wouldn\\'t have been any trouble today but I\\'d go home now because of my wife\\'s cancer.\"\\nThe truth can sometimes strike fear into your heart as well as make people feel sad or lonely - especially when they are alone with their loved ones for so long.But one man who knows better than anyone how much his love grows from experience isn-and he was never asked about what makes someone tick before giving us our own story: \"When women say \\'I\\'m afraid,\\' we usually mean things like this,\" she says...<|endoftext|>',\n",
              " ' The first thing that happens when you\\'re at the top is there\\'ll be no next level.I believe I was very lucky to make it through my childhood and adolescence without getting caught in a bad situation, because if things weren\\'t perfect then nobody would have been able for me or even understand what happened before age three.\"<|endoftext|>',\n",
              " \" A man has a right to be alone, but if he can't live by himself and not share in the joy of it all with others then that doesn?s belong.<|endoftext|>\",\n",
              " \" I am your master.No man can be the owner of a ship, but you alone shall own her; for she has no power to steer it with sails at all except by an iron rod that flies down through space and into our hearts.'The last few days have been filled me very positively as I feel myself finally becoming capable more fully when everything else stops being so much like dreamtime: 'You know what? The next step is going on!'<|endoftext|>\",\n",
              " ' To the point of being useless or impossible. It\\'s not what you know, but how to be with it and make that sense out if possible...I was very excited about my new book - a lot less so because I\\'m writing fiction at 35 years old now! So when we came across an article called \"The Art Of Happiness\", which is one of those things where something just seems right from all these angles: There must have been some great artistry involved in this film.\"\\nA man has power over his own destiny? What else can he do as long for happiness beyond mere enjoyment ?<|endoftext|>',\n",
              " ' I am alone and in a dream.\\n\\nTo the old age is nothing less than to return home, where I was raised as one of my own kind by an aunt who taught me that love can never die except through hard work (and if you don\\'t believe it), or at best for self-love itself: \"A man\\'s worth only when he comes out with his soul free from shame; because nobody wants more pain.\"<|endoftext|>',\n",
              " \" What is the purpose of a single life? I'm not saying that's easy, but you never know.I am going to go on record as telling me what it was like getting married and then having children in my early 20s at age 23...but for most people there are things they don't realize:<|endoftext|>\",\n",
              " \" No more need to be alone.All the world knows how hard it is for one person to die of cancer and every year in America, we see thousands dying within a mile or two from home when they are not receiving care due that very same reason which causes them an increase (the greater disease burden), especially if their parents can afford some sort I've yet forgotten...<|endoftext|>\"]"
            ]
          },
          "execution_count": 20,
          "metadata": {},
          "output_type": "execute_result"
        }
      ],
      "source": [
        "generated_quotes"
      ]
    }
  ],
  "metadata": {
    "accelerator": "GPU",
    "colab": {
      "name": "Motivational Quote Generator",
      "provenance": []
    },
    "kernelspec": {
      "display_name": "Python 3",
      "name": "python3"
    },
    "language_info": {
      "name": "python"
    },
    "widgets": {
      "application/vnd.jupyter.widget-state+json": {
        "22ca23a2c5054bf3963fa89eae9dafdb": {
          "model_module": "@jupyter-widgets/base",
          "model_module_version": "1.2.0",
          "model_name": "LayoutModel",
          "state": {
            "_model_module": "@jupyter-widgets/base",
            "_model_module_version": "1.2.0",
            "_model_name": "LayoutModel",
            "_view_count": null,
            "_view_module": "@jupyter-widgets/base",
            "_view_module_version": "1.2.0",
            "_view_name": "LayoutView",
            "align_content": null,
            "align_items": null,
            "align_self": null,
            "border": null,
            "bottom": null,
            "display": null,
            "flex": null,
            "flex_flow": null,
            "grid_area": null,
            "grid_auto_columns": null,
            "grid_auto_flow": null,
            "grid_auto_rows": null,
            "grid_column": null,
            "grid_gap": null,
            "grid_row": null,
            "grid_template_areas": null,
            "grid_template_columns": null,
            "grid_template_rows": null,
            "height": null,
            "justify_content": null,
            "justify_items": null,
            "left": null,
            "margin": null,
            "max_height": null,
            "max_width": null,
            "min_height": null,
            "min_width": null,
            "object_fit": null,
            "object_position": null,
            "order": null,
            "overflow": null,
            "overflow_x": null,
            "overflow_y": null,
            "padding": null,
            "right": null,
            "top": null,
            "visibility": null,
            "width": null
          }
        },
        "2e0166ecc104434480ecce6c98a989d6": {
          "model_module": "@jupyter-widgets/base",
          "model_module_version": "1.2.0",
          "model_name": "LayoutModel",
          "state": {
            "_model_module": "@jupyter-widgets/base",
            "_model_module_version": "1.2.0",
            "_model_name": "LayoutModel",
            "_view_count": null,
            "_view_module": "@jupyter-widgets/base",
            "_view_module_version": "1.2.0",
            "_view_name": "LayoutView",
            "align_content": null,
            "align_items": null,
            "align_self": null,
            "border": null,
            "bottom": null,
            "display": null,
            "flex": null,
            "flex_flow": null,
            "grid_area": null,
            "grid_auto_columns": null,
            "grid_auto_flow": null,
            "grid_auto_rows": null,
            "grid_column": null,
            "grid_gap": null,
            "grid_row": null,
            "grid_template_areas": null,
            "grid_template_columns": null,
            "grid_template_rows": null,
            "height": null,
            "justify_content": null,
            "justify_items": null,
            "left": null,
            "margin": null,
            "max_height": null,
            "max_width": null,
            "min_height": null,
            "min_width": null,
            "object_fit": null,
            "object_position": null,
            "order": null,
            "overflow": null,
            "overflow_x": null,
            "overflow_y": null,
            "padding": null,
            "right": null,
            "top": null,
            "visibility": null,
            "width": null
          }
        },
        "401bec423d8242f1a3e2f26f004409f4": {
          "model_module": "@jupyter-widgets/controls",
          "model_module_version": "1.5.0",
          "model_name": "DescriptionStyleModel",
          "state": {
            "_model_module": "@jupyter-widgets/controls",
            "_model_module_version": "1.5.0",
            "_model_name": "DescriptionStyleModel",
            "_view_count": null,
            "_view_module": "@jupyter-widgets/base",
            "_view_module_version": "1.2.0",
            "_view_name": "StyleView",
            "description_width": ""
          }
        },
        "62d558db9e4e488c89738414eea5cc02": {
          "model_module": "@jupyter-widgets/controls",
          "model_module_version": "1.5.0",
          "model_name": "DescriptionStyleModel",
          "state": {
            "_model_module": "@jupyter-widgets/controls",
            "_model_module_version": "1.5.0",
            "_model_name": "DescriptionStyleModel",
            "_view_count": null,
            "_view_module": "@jupyter-widgets/base",
            "_view_module_version": "1.2.0",
            "_view_name": "StyleView",
            "description_width": ""
          }
        },
        "6c2e38f7006e47e3824d9ed09b1743a0": {
          "model_module": "@jupyter-widgets/controls",
          "model_module_version": "1.5.0",
          "model_name": "HTMLModel",
          "state": {
            "_dom_classes": [],
            "_model_module": "@jupyter-widgets/controls",
            "_model_module_version": "1.5.0",
            "_model_name": "HTMLModel",
            "_view_count": null,
            "_view_module": "@jupyter-widgets/controls",
            "_view_module_version": "1.5.0",
            "_view_name": "HTMLView",
            "description": "",
            "description_tooltip": null,
            "layout": "IPY_MODEL_22ca23a2c5054bf3963fa89eae9dafdb",
            "placeholder": "​",
            "style": "IPY_MODEL_62d558db9e4e488c89738414eea5cc02",
            "value": " 523M/523M [00:17&lt;00:00, 32.3MB/s]"
          }
        },
        "7d9e6e461b924c47a6a8ef7ba3ee1da6": {
          "model_module": "@jupyter-widgets/base",
          "model_module_version": "1.2.0",
          "model_name": "LayoutModel",
          "state": {
            "_model_module": "@jupyter-widgets/base",
            "_model_module_version": "1.2.0",
            "_model_name": "LayoutModel",
            "_view_count": null,
            "_view_module": "@jupyter-widgets/base",
            "_view_module_version": "1.2.0",
            "_view_name": "LayoutView",
            "align_content": null,
            "align_items": null,
            "align_self": null,
            "border": null,
            "bottom": null,
            "display": null,
            "flex": null,
            "flex_flow": null,
            "grid_area": null,
            "grid_auto_columns": null,
            "grid_auto_flow": null,
            "grid_auto_rows": null,
            "grid_column": null,
            "grid_gap": null,
            "grid_row": null,
            "grid_template_areas": null,
            "grid_template_columns": null,
            "grid_template_rows": null,
            "height": null,
            "justify_content": null,
            "justify_items": null,
            "left": null,
            "margin": null,
            "max_height": null,
            "max_width": null,
            "min_height": null,
            "min_width": null,
            "object_fit": null,
            "object_position": null,
            "order": null,
            "overflow": null,
            "overflow_x": null,
            "overflow_y": null,
            "padding": null,
            "right": null,
            "top": null,
            "visibility": null,
            "width": null
          }
        },
        "946fc0a07efb4372a0fd27baf42e4c5f": {
          "model_module": "@jupyter-widgets/controls",
          "model_module_version": "1.5.0",
          "model_name": "ProgressStyleModel",
          "state": {
            "_model_module": "@jupyter-widgets/controls",
            "_model_module_version": "1.5.0",
            "_model_name": "ProgressStyleModel",
            "_view_count": null,
            "_view_module": "@jupyter-widgets/base",
            "_view_module_version": "1.2.0",
            "_view_name": "StyleView",
            "bar_color": null,
            "description_width": ""
          }
        },
        "9de7aa644a8049d08f5a3afb726c5a84": {
          "model_module": "@jupyter-widgets/controls",
          "model_module_version": "1.5.0",
          "model_name": "FloatProgressModel",
          "state": {
            "_dom_classes": [],
            "_model_module": "@jupyter-widgets/controls",
            "_model_module_version": "1.5.0",
            "_model_name": "FloatProgressModel",
            "_view_count": null,
            "_view_module": "@jupyter-widgets/controls",
            "_view_module_version": "1.5.0",
            "_view_name": "ProgressView",
            "bar_style": "success",
            "description": "",
            "description_tooltip": null,
            "layout": "IPY_MODEL_7d9e6e461b924c47a6a8ef7ba3ee1da6",
            "max": 548118077,
            "min": 0,
            "orientation": "horizontal",
            "style": "IPY_MODEL_946fc0a07efb4372a0fd27baf42e4c5f",
            "value": 548118077
          }
        },
        "a436f2e011fc456a96becc4d16ae27cf": {
          "model_module": "@jupyter-widgets/controls",
          "model_module_version": "1.5.0",
          "model_name": "HTMLModel",
          "state": {
            "_dom_classes": [],
            "_model_module": "@jupyter-widgets/controls",
            "_model_module_version": "1.5.0",
            "_model_name": "HTMLModel",
            "_view_count": null,
            "_view_module": "@jupyter-widgets/controls",
            "_view_module_version": "1.5.0",
            "_view_name": "HTMLView",
            "description": "",
            "description_tooltip": null,
            "layout": "IPY_MODEL_2e0166ecc104434480ecce6c98a989d6",
            "placeholder": "​",
            "style": "IPY_MODEL_401bec423d8242f1a3e2f26f004409f4",
            "value": "Downloading: 100%"
          }
        },
        "b719ad507c334c24a5dabe1c2eb8ec2a": {
          "model_module": "@jupyter-widgets/base",
          "model_module_version": "1.2.0",
          "model_name": "LayoutModel",
          "state": {
            "_model_module": "@jupyter-widgets/base",
            "_model_module_version": "1.2.0",
            "_model_name": "LayoutModel",
            "_view_count": null,
            "_view_module": "@jupyter-widgets/base",
            "_view_module_version": "1.2.0",
            "_view_name": "LayoutView",
            "align_content": null,
            "align_items": null,
            "align_self": null,
            "border": null,
            "bottom": null,
            "display": null,
            "flex": null,
            "flex_flow": null,
            "grid_area": null,
            "grid_auto_columns": null,
            "grid_auto_flow": null,
            "grid_auto_rows": null,
            "grid_column": null,
            "grid_gap": null,
            "grid_row": null,
            "grid_template_areas": null,
            "grid_template_columns": null,
            "grid_template_rows": null,
            "height": null,
            "justify_content": null,
            "justify_items": null,
            "left": null,
            "margin": null,
            "max_height": null,
            "max_width": null,
            "min_height": null,
            "min_width": null,
            "object_fit": null,
            "object_position": null,
            "order": null,
            "overflow": null,
            "overflow_x": null,
            "overflow_y": null,
            "padding": null,
            "right": null,
            "top": null,
            "visibility": null,
            "width": null
          }
        },
        "ec1df88390b646f18af01cba9665157e": {
          "model_module": "@jupyter-widgets/controls",
          "model_module_version": "1.5.0",
          "model_name": "HBoxModel",
          "state": {
            "_dom_classes": [],
            "_model_module": "@jupyter-widgets/controls",
            "_model_module_version": "1.5.0",
            "_model_name": "HBoxModel",
            "_view_count": null,
            "_view_module": "@jupyter-widgets/controls",
            "_view_module_version": "1.5.0",
            "_view_name": "HBoxView",
            "box_style": "",
            "children": [
              "IPY_MODEL_a436f2e011fc456a96becc4d16ae27cf",
              "IPY_MODEL_9de7aa644a8049d08f5a3afb726c5a84",
              "IPY_MODEL_6c2e38f7006e47e3824d9ed09b1743a0"
            ],
            "layout": "IPY_MODEL_b719ad507c334c24a5dabe1c2eb8ec2a"
          }
        }
      }
    }
  },
  "nbformat": 4,
  "nbformat_minor": 0
}
